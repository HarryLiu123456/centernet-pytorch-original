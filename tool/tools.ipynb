{
 "cells": [
  {
   "cell_type": "markdown",
   "metadata": {},
   "source": [
    "**本程序不是直接点击启动，需要修改路径并放在合适的位置，每个单元格的内容是独立的**"
   ]
  },
  {
   "cell_type": "markdown",
   "metadata": {},
   "source": [
    "1. 查看数据集文件个数"
   ]
  },
  {
   "cell_type": "code",
   "execution_count": null,
   "metadata": {},
   "outputs": [],
   "source": [
    "import os\n",
    "\n",
    "#   记得更改路径\n",
    "xml_path = \"download/VOC/Annotations\"\n",
    "img_path = \"download/VOC/JPEGImages\"\n",
    "\n",
    "xml_files = os.listdir(xml_path)\n",
    "img_files = os.listdir(img_path)\n",
    "\n",
    "#   print(type(xml_files))\n",
    "\n",
    "#   只保留.xml和.jpg文件\n",
    "for i, file in enumerate(xml_files):\n",
    "    if '.xml' not in file:\n",
    "        del xml_files[i]\n",
    "for i, file in enumerate(img_files):\n",
    "    if '.jpg' not in file:\n",
    "        del img_files[i]\n",
    "\n",
    "print(\"xml文件一共有：%d\" % len(xml_files))\n",
    "print(\"img文件一共有：%d\" % len(img_files))"
   ]
  },
  {
   "cell_type": "markdown",
   "metadata": {},
   "source": [
    "2. 重新规范命名数据集"
   ]
  },
  {
   "cell_type": "code",
   "execution_count": null,
   "metadata": {},
   "outputs": [],
   "source": [
    "import os\n",
    "\n",
    "#   记得更改路径\n",
    "xml_path = \"download/VOC/Annotations\"\n",
    "img_path = \"download/VOC/JPEGImages\"\n",
    "\n",
    "xml_files = os.listdir(xml_path)\n",
    "img_files = os.listdir(img_path)\n",
    "\n",
    "#   只保留.xml和.jpg文件\n",
    "for i, file in enumerate(xml_files):\n",
    "    if '.xml' not in file:\n",
    "        del xml_files[i]\n",
    "for i, file in enumerate(img_files):\n",
    "    if '.jpg' not in file:\n",
    "        del img_files[i]\n",
    "\n",
    "for i, file in enumerate(xml_files):\n",
    "    os.rename(xml_path + '/' + file, xml_path + '/' + \"{:05d}\".format(i) + '.xml')\n",
    "\n",
    "for i, file in enumerate(img_files):\n",
    "    os.rename(img_path + '/' + file, img_path + '/' + \"{:05d}\".format(i) + '.jpg')"
   ]
  },
  {
   "cell_type": "markdown",
   "metadata": {},
   "source": [
    "3. 只保留一千张，修改了xml、jpg、txt"
   ]
  },
  {
   "cell_type": "code",
   "execution_count": null,
   "metadata": {},
   "outputs": [],
   "source": [
    "import os\n",
    "\n",
    "#   记得更改路径\n",
    "xml_path = \"VOC_mini/Annotations\"\n",
    "image_path = \"VOC_mini/JPEGImages\"\n",
    "# txt_path = \"VOC/ImageSets\"\n",
    "\n",
    "xml_files = os.listdir(xml_path)\n",
    "image_files = os.listdir(image_path)\n",
    "# txt_files = os.listdir(txt_path)\n",
    "\n",
    "for file in xml_files[1000:]:\n",
    "    os.remove(os.path.join(xml_path,file))\n",
    "\n",
    "for file in image_files[1000:]:\n",
    "    os.remove(os.path.join(image_path,file))\n",
    "\n",
    "# for file in txt_files:\n",
    "#     with open(os.path.join(txt_path,file),\"r+\") as f:\n",
    "#         lines = [line.strip() for line in f.readlines()]\n",
    "\n",
    "#         pointer = 0\n",
    "#         for i, line in enumerate(lines):\n",
    "#             if int(line) > 1000:\n",
    "#                 pointer = i\n",
    "#                 break\n",
    "\n",
    "#         lines = lines[:pointer]\n",
    "#         f.seek(0)\n",
    "#         f.truncate() \n",
    "#         f.write(\"\\n\".join(lines))"
   ]
  },
  {
   "cell_type": "markdown",
   "metadata": {},
   "source": [
    "4. 查看某个xml的物体内容"
   ]
  },
  {
   "cell_type": "code",
   "execution_count": null,
   "metadata": {},
   "outputs": [],
   "source": [
    "import xml.dom.minidom as dom\n",
    "\n",
    "#   更改这里的路径\n",
    "file_path = \"VOC_modified/Annotations/15209.xml\"\n",
    "\n",
    "dom_tree = dom.parse(file_path)\n",
    "\n",
    "annonation = dom_tree.documentElement\n",
    "\n",
    "objects = annonation.getElementsByTagName(\"object\")\n",
    "\n",
    "for object in objects:\n",
    "    print(object.getElementsByTagName(\"name\")[0].childNodes[0].data,end=\" \")\n",
    "print(end=\"\\n\")\n"
   ]
  },
  {
   "cell_type": "markdown",
   "metadata": {},
   "source": [
    "* xml示例"
   ]
  },
  {
   "cell_type": "code",
   "execution_count": null,
   "metadata": {},
   "outputs": [],
   "source": [
    "#!/usr/bin/python\n",
    "# -*- coding: UTF-8 -*-\n",
    "\n",
    "from xml.dom.minidom import parse\n",
    "import xml.dom.minidom\n",
    " \n",
    "# 使用minidom解析器打开 XML 文档\n",
    "DOMTree = xml.dom.minidom.parse(\"example.xml\")\n",
    "collection = DOMTree.documentElement\n",
    "if collection.hasAttribute(\"shelf\"):\n",
    "   print (\"Root element : %s\" % collection.getAttribute(\"shelf\"))\n",
    " \n",
    "# 在集合中获取所有电影\n",
    "movies = collection.getElementsByTagName(\"movie\")\n",
    " \n",
    "# 打印每部电影的详细信息\n",
    "for movie in movies:\n",
    "   print (\"*****Movie*****\")\n",
    "   if movie.hasAttribute(\"title\"):\n",
    "      print (\"Title: %s\" % movie.getAttribute(\"title\"))\n",
    " \n",
    "   type = movie.getElementsByTagName('type')[0]\n",
    "   print (\"Type: %s\" % type.childNodes[0].data)\n",
    "   format = movie.getElementsByTagName('format')[0]\n",
    "   print (\"Format: %s\" % format.childNodes[0].data)\n",
    "   rating = movie.getElementsByTagName('rating')[0]\n",
    "   print (\"Rating: %s\" % rating.childNodes[0].data)\n",
    "   description = movie.getElementsByTagName('description')[0]\n",
    "   print (\"Description: %s\" % description.childNodes[0].data)"
   ]
  },
  {
   "cell_type": "markdown",
   "metadata": {},
   "source": [
    "5. 测试resize_image的功能"
   ]
  },
  {
   "cell_type": "code",
   "execution_count": 3,
   "metadata": {},
   "outputs": [],
   "source": [
    "from PIL import Image\n",
    "import matplotlib.pyplot as plt\n",
    "import numpy as np\n",
    "\n",
    "from util.utils import resize_image\n",
    "\n",
    "image = Image.open('img/street.jpg')\n",
    "\n",
    "# image.show()\n",
    "\n",
    "image = resize_image(image, (1024,512), 1)\n",
    "\n",
    "image.show()\n",
    "\n",
    "# img = np.array(image)\n",
    "# print(repr(img))\n",
    "# image = Image.fromarray(img)\n",
    "# image.show()"
   ]
  },
  {
   "cell_type": "markdown",
   "metadata": {},
   "source": [
    "6. 测试pytorch的模型参数函数"
   ]
  },
  {
   "cell_type": "code",
   "execution_count": 15,
   "metadata": {},
   "outputs": [
    {
     "name": "stdout",
     "output_type": "stream",
     "text": [
      "torch.Size([4, 2, 2, 2])\n",
      "torch.Size([4])\n",
      "odict_keys(['conv1.weight', 'conv1.bias', 'conv2.weight', 'conv2.bias', 'conv3.weight', 'conv3.bias'])\n",
      "<class 'odict_items'>\n",
      "<class 'collections.OrderedDict'>\n"
     ]
    }
   ],
   "source": [
    "import torch\n",
    "\n",
    "import torch.nn as nn\n",
    "\n",
    "class Mynet(nn.Module):\n",
    "    def __init__(self):\n",
    "        super(Mynet, self).__init__()\n",
    "        self.conv1 = nn.Conv2d(2, 4, 2, 1)\n",
    "        self.conv2 = nn.Conv2d(4, 16, 2, 1)\n",
    "        self.conv3 = nn.Conv2d(16, 32, 2, 1)\n",
    "        self.func1 = nn.ReLU()\n",
    "\n",
    "    def forward(self, x):\n",
    "        x = self.func1(self.conv1(x))\n",
    "        x = self.func1(self.conv2(x))\n",
    "        x = self.func1(self.conv3(x))\n",
    "        return x\n",
    "    \n",
    "mynet = Mynet()\n",
    "model_dict      = mynet.state_dict()\n",
    "\n",
    "print(dict(model_dict)[\"conv1.weight\"].shape)\n",
    "print(dict(model_dict)[\"conv1.bias\"].shape)\n",
    "print(model_dict.keys())\n",
    "print(type(model_dict.items()))\n",
    "print(type(model_dict))  \n"
   ]
  }
 ],
 "metadata": {
  "kernelspec": {
   "display_name": "process",
   "language": "python",
   "name": "python3"
  },
  "language_info": {
   "codemirror_mode": {
    "name": "ipython",
    "version": 3
   },
   "file_extension": ".py",
   "mimetype": "text/x-python",
   "name": "python",
   "nbconvert_exporter": "python",
   "pygments_lexer": "ipython3",
   "version": "3.10.0"
  }
 },
 "nbformat": 4,
 "nbformat_minor": 2
}
