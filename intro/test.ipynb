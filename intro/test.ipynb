{
 "cells": [
  {
   "cell_type": "markdown",
   "metadata": {},
   "source": [
    "1. 测试resize_image的功能"
   ]
  },
  {
   "cell_type": "code",
   "execution_count": 12,
   "metadata": {},
   "outputs": [],
   "source": [
    "from PIL import Image\n",
    "import matplotlib.pyplot as plt\n",
    "import numpy as np\n",
    "\n",
    "from utils.utils import resize_image\n",
    "\n",
    "image = Image.open('img/street.jpg')\n",
    "\n",
    "# image.show()\n",
    "\n",
    "image = resize_image(image, (1024,512), 1)\n",
    "\n",
    "image.show()\n",
    "\n",
    "\n",
    "# img = np.array(image)\n",
    "# print(repr(img))\n",
    "# image = Image.fromarray(img)\n",
    "# image.show()"
   ]
  }
 ],
 "metadata": {
  "kernelspec": {
   "display_name": "second",
   "language": "python",
   "name": "python3"
  },
  "language_info": {
   "codemirror_mode": {
    "name": "ipython",
    "version": 3
   },
   "file_extension": ".py",
   "mimetype": "text/x-python",
   "name": "python",
   "nbconvert_exporter": "python",
   "pygments_lexer": "ipython3",
   "version": "3.10.0"
  }
 },
 "nbformat": 4,
 "nbformat_minor": 2
}
